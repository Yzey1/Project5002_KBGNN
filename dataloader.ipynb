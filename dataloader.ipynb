{
 "cells": [
  {
   "cell_type": "code",
   "execution_count": 79,
   "id": "daf6ee03-9be2-469e-a80a-eb03959aaabc",
   "metadata": {},
   "outputs": [],
   "source": [
    "import os.path as osp\n",
    "import torch\n",
    "from torch_geometric.data import Data, InMemoryDataset\n",
    "import pickle\n",
    "from tqdm import tqdm"
   ]
  },
  {
   "cell_type": "code",
   "execution_count": 99,
   "id": "fc7ab514-b5bf-41ec-bf04-384163d0ab6a",
   "metadata": {},
   "outputs": [],
   "source": [
    "class MyDataset(InMemoryDataset):\n",
    "    \n",
    "    def __init__(self, root='../processed_data/tky', sets='train', transform=None, pre_transform=None):\n",
    "        self.sets= sets\n",
    "        super().__init__(root, transform, pre_transform)\n",
    "        \n",
    "        self.load(self.processed_paths[0])\n",
    "\n",
    "    @property\n",
    "    def raw_file_names(self):\n",
    "        return [f'{self.sets}.pkl']\n",
    "    \n",
    "   \n",
    "    @property\n",
    "    def processed_file_names(self):\n",
    "        return [f'seq_graph_{self.sets}.pt']\n",
    "    \n",
    "    def download(self):\n",
    "        pass\n",
    "    \n",
    "    def process(self):\n",
    "        with open(osp.join(self.raw_dir,self.raw_file_names[0]), 'rb') as f:\n",
    "            data = pickle.load(f)\n",
    "            user_no, poi_no = pickle.load(f)\n",
    "        \n",
    "        datalist=[]\n",
    "        for uid, poi, seq, coord, y in tqdm(data):\n",
    "            nodes={}\n",
    "            idx=0\n",
    "            idx_seq=[]\n",
    "            for node in seq:\n",
    "                if node not in nodes.keys():\n",
    "                    # print(node)\n",
    "                    nodes[node]=idx\n",
    "                    idx+=1\n",
    "                idx_seq.append(nodes[node])\n",
    "                    \n",
    "            x= torch.LongTensor(list(nodes.keys()))\n",
    "            edge_index= torch.LongTensor([idx_seq[:-1],idx_seq[1:]])\n",
    "            y = torch.LongTensor([y])\n",
    "            uid = torch.LongTensor([uid])\n",
    "            poi = torch.LongTensor([poi])\n",
    "            coord = torch.Tensor(coord)\n",
    "            \n",
    "            datalist.append( Data(x=x, edge_index=edge_index, y=y, uid=uid, poi=poi, coord=coord))\n",
    "            \n",
    "        self.save(datalist, self.processed_paths[0])\n",
    "\n",
    "        \n",
    "        "
   ]
  },
  {
   "cell_type": "code",
   "execution_count": 101,
   "id": "699f96a0-edba-434e-9d34-2cb18bbe3a56",
   "metadata": {},
   "outputs": [
    {
     "name": "stderr",
     "output_type": "stream",
     "text": [
      "Processing...\n",
      "100%|███████████████████████████████| 1138234/1138234 [05:53<00:00, 3216.58it/s]\n",
      "Done!\n"
     ]
    }
   ],
   "source": [
    "train_set = MyDataset(root='../processed_data/tky', sets='train')"
   ]
  },
  {
   "cell_type": "code",
   "execution_count": 102,
   "id": "f410c2a6-1ccf-42a1-8cc2-7b3db7aff6ee",
   "metadata": {},
   "outputs": [
    {
     "name": "stderr",
     "output_type": "stream",
     "text": [
      "Processing...\n",
      "100%|█████████████████████████████████████| 2293/2293 [00:00<00:00, 8516.12it/s]\n",
      "Done!\n"
     ]
    }
   ],
   "source": [
    "test_set = MyDataset(root='../processed_data/tky', sets='test')"
   ]
  },
  {
   "cell_type": "code",
   "execution_count": 103,
   "id": "2054bfeb-1590-46de-88d1-fa560d7f96e7",
   "metadata": {},
   "outputs": [
    {
     "name": "stderr",
     "output_type": "stream",
     "text": [
      "Processing...\n",
      "100%|█████████████████████████████████████| 2293/2293 [00:00<00:00, 8892.08it/s]\n",
      "Done!\n"
     ]
    }
   ],
   "source": [
    "val_set = MyDataset(root='../processed_data/tky', sets='val')"
   ]
  },
  {
   "cell_type": "code",
   "execution_count": 88,
   "id": "4efdefb5-9cf6-4c5f-b9da-406fca77a32b",
   "metadata": {},
   "outputs": [],
   "source": [
    "from torch_geometric.loader import DataLoader"
   ]
  },
  {
   "cell_type": "code",
   "execution_count": 104,
   "id": "a60c3e32-1be6-4aa0-a734-8bdb9b42e6b0",
   "metadata": {},
   "outputs": [],
   "source": [
    "train_loader = DataLoader(dataset=train_set, batch_size=32 , shuffle=True)"
   ]
  },
  {
   "cell_type": "code",
   "execution_count": 105,
   "id": "3e457af8-0972-4ccd-93b7-eedb5ed15b1f",
   "metadata": {},
   "outputs": [
    {
     "data": {
      "text/plain": [
       "[Data(x=[44], edge_index=[2, 118], y=[1], uid=[1], poi=[1], coord=[2]),\n",
       " Data(x=[19], edge_index=[2, 83], y=[1], uid=[1], poi=[1], coord=[2]),\n",
       " Data(x=[51], edge_index=[2, 73], y=[1], uid=[1], poi=[1], coord=[2]),\n",
       " Data(x=[55], edge_index=[2, 85], y=[1], uid=[1], poi=[1], coord=[2]),\n",
       " Data(x=[22], edge_index=[2, 104], y=[1], uid=[1], poi=[1], coord=[2]),\n",
       " Data(x=[52], edge_index=[2, 99], y=[1], uid=[1], poi=[1], coord=[2]),\n",
       " Data(x=[33], edge_index=[2, 260], y=[1], uid=[1], poi=[1], coord=[2]),\n",
       " Data(x=[34], edge_index=[2, 59], y=[1], uid=[1], poi=[1], coord=[2]),\n",
       " Data(x=[25], edge_index=[2, 37], y=[1], uid=[1], poi=[1], coord=[2]),\n",
       " Data(x=[23], edge_index=[2, 65], y=[1], uid=[1], poi=[1], coord=[2])]"
      ]
     },
     "execution_count": 105,
     "metadata": {},
     "output_type": "execute_result"
    }
   ],
   "source": [
    "sampled_data = next(iter(train_loader))\n",
    "sampled_data[:10]"
   ]
  },
  {
   "cell_type": "code",
   "execution_count": 106,
   "id": "bdc07bd5-ef23-4a1d-a5b9-cabba0fb04ba",
   "metadata": {},
   "outputs": [
    {
     "data": {
      "text/plain": [
       "tensor([   36,    21,   924,   388,  1486,   312,  1429,  3449,    45,  6089,\n",
       "         3379,  8225,   576,   679,  8962,   159,   563,  1188,  2304,  2323,\n",
       "         2263,  3340, 17952,    27,   247, 10194, 17124,  1375, 21909,  1338,\n",
       "         1393,  5545,   177,  2618, 23223, 23560,   474, 12400, 23774,   799,\n",
       "        26076,   480,  1726,   353])"
      ]
     },
     "execution_count": 106,
     "metadata": {},
     "output_type": "execute_result"
    }
   ],
   "source": [
    "sampled_data[0].x"
   ]
  },
  {
   "cell_type": "code",
   "execution_count": 107,
   "id": "cc15e35e-b3d4-4923-9334-c109dd0a9cde",
   "metadata": {},
   "outputs": [
    {
     "data": {
      "text/plain": [
       "tensor([[ 0,  1,  2,  3,  4,  5,  5,  5,  6,  5,  5,  0,  5,  5,  0,  7,  8,  9,\n",
       "         10,  5,  0,  5,  5,  0, 11,  0,  5,  5,  0,  1, 12, 13,  1, 14,  5,  5,\n",
       "          5,  0,  0,  5,  5,  0,  5,  5,  1,  7,  5, 15, 16, 17,  1,  1,  6, 18,\n",
       "         19, 20,  5,  0,  0,  5,  5,  0,  5,  1,  6, 18, 21,  5,  5,  0, 22, 22,\n",
       "         23,  5, 24,  0, 25,  5, 26, 27, 28, 29, 30, 31,  5,  0,  0,  5,  5,  5,\n",
       "          5,  5, 32, 33, 34,  5,  5, 35,  5,  1, 36, 37, 38, 23, 18, 39,  0,  5,\n",
       "         40, 41,  5,  0,  5,  0,  1,  7, 42, 11],\n",
       "        [ 1,  2,  3,  4,  5,  5,  5,  6,  5,  5,  0,  5,  5,  0,  7,  8,  9, 10,\n",
       "          5,  0,  5,  5,  0, 11,  0,  5,  5,  0,  1, 12, 13,  1, 14,  5,  5,  5,\n",
       "          0,  0,  5,  5,  0,  5,  5,  1,  7,  5, 15, 16, 17,  1,  1,  6, 18, 19,\n",
       "         20,  5,  0,  0,  5,  5,  0,  5,  1,  6, 18, 21,  5,  5,  0, 22, 22, 23,\n",
       "          5, 24,  0, 25,  5, 26, 27, 28, 29, 30, 31,  5,  0,  0,  5,  5,  5,  5,\n",
       "          5, 32, 33, 34,  5,  5, 35,  5,  1, 36, 37, 38, 23, 18, 39,  0,  5, 40,\n",
       "         41,  5,  0,  5,  0,  1,  7, 42, 11, 43]])"
      ]
     },
     "execution_count": 107,
     "metadata": {},
     "output_type": "execute_result"
    }
   ],
   "source": [
    "sampled_data[0].edge_index"
   ]
  },
  {
   "cell_type": "code",
   "execution_count": 108,
   "id": "1dd37f65-5e91-4f44-a45e-2a609ae3d15b",
   "metadata": {},
   "outputs": [
    {
     "data": {
      "text/plain": [
       "tensor([ 35.6556, 139.7567])"
      ]
     },
     "execution_count": 108,
     "metadata": {},
     "output_type": "execute_result"
    }
   ],
   "source": [
    "sampled_data[0].coord"
   ]
  },
  {
   "cell_type": "code",
   "execution_count": null,
   "id": "b73cba45-c515-4b1c-973f-d55886dfa6f4",
   "metadata": {},
   "outputs": [],
   "source": []
  }
 ],
 "metadata": {
  "kernelspec": {
   "display_name": "Python 3 (ipykernel)",
   "language": "python",
   "name": "python3"
  },
  "language_info": {
   "codemirror_mode": {
    "name": "ipython",
    "version": 3
   },
   "file_extension": ".py",
   "mimetype": "text/x-python",
   "name": "python",
   "nbconvert_exporter": "python",
   "pygments_lexer": "ipython3",
   "version": "3.9.13"
  }
 },
 "nbformat": 4,
 "nbformat_minor": 5
}
