{
 "cells": [
  {
   "cell_type": "code",
   "execution_count": 176,
   "id": "90e8e2de-6a01-4574-841d-06ae69f65d71",
   "metadata": {},
   "outputs": [],
   "source": [
    "import pandas as pd\n",
    "import numpy as np\n",
    "import random\n",
    "import pickle as pkl\n",
    "from tqdm import tqdm"
   ]
  },
  {
   "cell_type": "code",
   "execution_count": 3,
   "id": "5d53ef7b-a394-49c5-be80-a8c9d29142c4",
   "metadata": {},
   "outputs": [],
   "source": [
    "source_pth = '../dataset_tsmc2014/dataset_TSMC2014_TKY.txt'\n",
    "\n",
    "dist_pth = '../processed_data/tky/'\n"
   ]
  },
  {
   "cell_type": "code",
   "execution_count": 7,
   "id": "ba8d8239-06df-4d21-8816-f6d82af91835",
   "metadata": {},
   "outputs": [],
   "source": [
    "col_names = ['uid', 'poi', 'cat_id', 'cat_name', 'latitude', 'longitude', 'offset', 'time']\n",
    "data= pd.read_csv(source_pth, sep='\\t', header=None, names=col_names, encoding='unicode_escape')\n",
    "# transfer 'time' from str into datetime type\n",
    "data['time']=pd.to_datetime(data['time'])"
   ]
  },
  {
   "cell_type": "code",
   "execution_count": 5,
   "id": "bfa527b9-a873-4268-bf88-e78e228b6974",
   "metadata": {},
   "outputs": [
    {
     "data": {
      "text/html": [
       "<div>\n",
       "<style scoped>\n",
       "    .dataframe tbody tr th:only-of-type {\n",
       "        vertical-align: middle;\n",
       "    }\n",
       "\n",
       "    .dataframe tbody tr th {\n",
       "        vertical-align: top;\n",
       "    }\n",
       "\n",
       "    .dataframe thead th {\n",
       "        text-align: right;\n",
       "    }\n",
       "</style>\n",
       "<table border=\"1\" class=\"dataframe\">\n",
       "  <thead>\n",
       "    <tr style=\"text-align: right;\">\n",
       "      <th></th>\n",
       "      <th>uid</th>\n",
       "      <th>poi</th>\n",
       "      <th>cat_id</th>\n",
       "      <th>cat_name</th>\n",
       "      <th>latitude</th>\n",
       "      <th>longitude</th>\n",
       "      <th>offset</th>\n",
       "      <th>time</th>\n",
       "    </tr>\n",
       "  </thead>\n",
       "  <tbody>\n",
       "    <tr>\n",
       "      <th>0</th>\n",
       "      <td>1541</td>\n",
       "      <td>4f0fd5a8e4b03856eeb6c8cb</td>\n",
       "      <td>4bf58dd8d48988d10c951735</td>\n",
       "      <td>Cosmetics Shop</td>\n",
       "      <td>35.705101</td>\n",
       "      <td>139.619590</td>\n",
       "      <td>540</td>\n",
       "      <td>Tue Apr 03 18:17:18 +0000 2012</td>\n",
       "    </tr>\n",
       "    <tr>\n",
       "      <th>1</th>\n",
       "      <td>868</td>\n",
       "      <td>4b7b884ff964a5207d662fe3</td>\n",
       "      <td>4bf58dd8d48988d1d1941735</td>\n",
       "      <td>Ramen /  Noodle House</td>\n",
       "      <td>35.715581</td>\n",
       "      <td>139.800317</td>\n",
       "      <td>540</td>\n",
       "      <td>Tue Apr 03 18:22:04 +0000 2012</td>\n",
       "    </tr>\n",
       "    <tr>\n",
       "      <th>2</th>\n",
       "      <td>114</td>\n",
       "      <td>4c16fdda96040f477cc473a5</td>\n",
       "      <td>4d954b0ea243a5684a65b473</td>\n",
       "      <td>Convenience Store</td>\n",
       "      <td>35.714542</td>\n",
       "      <td>139.480065</td>\n",
       "      <td>540</td>\n",
       "      <td>Tue Apr 03 19:12:07 +0000 2012</td>\n",
       "    </tr>\n",
       "    <tr>\n",
       "      <th>3</th>\n",
       "      <td>868</td>\n",
       "      <td>4c178638c2dfc928651ea869</td>\n",
       "      <td>4bf58dd8d48988d118951735</td>\n",
       "      <td>Food &amp; Drink Shop</td>\n",
       "      <td>35.725592</td>\n",
       "      <td>139.776633</td>\n",
       "      <td>540</td>\n",
       "      <td>Tue Apr 03 19:12:13 +0000 2012</td>\n",
       "    </tr>\n",
       "    <tr>\n",
       "      <th>4</th>\n",
       "      <td>1458</td>\n",
       "      <td>4f568309e4b071452e447afe</td>\n",
       "      <td>4f2a210c4b9023bd5841ed28</td>\n",
       "      <td>Housing Development</td>\n",
       "      <td>35.656083</td>\n",
       "      <td>139.734045</td>\n",
       "      <td>540</td>\n",
       "      <td>Tue Apr 03 19:18:23 +0000 2012</td>\n",
       "    </tr>\n",
       "  </tbody>\n",
       "</table>\n",
       "</div>"
      ],
      "text/plain": [
       "    uid                       poi                    cat_id  \\\n",
       "0  1541  4f0fd5a8e4b03856eeb6c8cb  4bf58dd8d48988d10c951735   \n",
       "1   868  4b7b884ff964a5207d662fe3  4bf58dd8d48988d1d1941735   \n",
       "2   114  4c16fdda96040f477cc473a5  4d954b0ea243a5684a65b473   \n",
       "3   868  4c178638c2dfc928651ea869  4bf58dd8d48988d118951735   \n",
       "4  1458  4f568309e4b071452e447afe  4f2a210c4b9023bd5841ed28   \n",
       "\n",
       "                cat_name   latitude   longitude  offset  \\\n",
       "0         Cosmetics Shop  35.705101  139.619590     540   \n",
       "1  Ramen /  Noodle House  35.715581  139.800317     540   \n",
       "2      Convenience Store  35.714542  139.480065     540   \n",
       "3      Food & Drink Shop  35.725592  139.776633     540   \n",
       "4    Housing Development  35.656083  139.734045     540   \n",
       "\n",
       "                             time  \n",
       "0  Tue Apr 03 18:17:18 +0000 2012  \n",
       "1  Tue Apr 03 18:22:04 +0000 2012  \n",
       "2  Tue Apr 03 19:12:07 +0000 2012  \n",
       "3  Tue Apr 03 19:12:13 +0000 2012  \n",
       "4  Tue Apr 03 19:18:23 +0000 2012  "
      ]
     },
     "execution_count": 5,
     "metadata": {},
     "output_type": "execute_result"
    }
   ],
   "source": [
    "data.head()"
   ]
  },
  {
   "cell_type": "code",
   "execution_count": 27,
   "id": "0ab77896-68a4-408f-951e-10660024d628",
   "metadata": {},
   "outputs": [
    {
     "name": "stdout",
     "output_type": "stream",
     "text": [
      "#Users: 2293\n",
      "#POIs: 61858\n"
     ]
    }
   ],
   "source": [
    "user_no= pd.unique(data['uid']).shape[0]\n",
    "poi_no= pd.unique(data['poi']).shape[0]\n",
    "\n",
    "print(\"#Users: {}\".format(user_no))\n",
    "print(\"#POIs: {}\".format(poi_no))\n",
    "\n",
    "uid_dict = dict(zip(pd.unique(data['uid']), range(1, user_no+1)))\n",
    "poi_dict = dict(zip(pd.unique(data['poi']), range(1, poi_no+1)))\n",
    "\n",
    "data['uid_old']=data['uid']\n",
    "data['poi_old']=data['poi']\n",
    "\n",
    "data['uid']= data['uid_old'].map(uid_dict)\n",
    "data['poi']= data['poi_old'].map(poi_dict)"
   ]
  },
  {
   "cell_type": "code",
   "execution_count": 117,
   "id": "87f620a0-2e87-4d53-b1f2-5ea12728fd37",
   "metadata": {},
   "outputs": [],
   "source": [
    "coords_= data.groupby('poi').agg({'latitude':np.mean, 'longitude':np.mean})\n",
    "coords = dict(zip(coords_.index,list(zip(coords_['latitude'],coords_['longitude']))))"
   ]
  },
  {
   "cell_type": "code",
   "execution_count": 118,
   "id": "e9488973-9391-486a-a59e-0ce257a7287d",
   "metadata": {},
   "outputs": [],
   "source": [
    "train_set, eval_set = [], []\n",
    "for uid in range(1, user_no+1):\n",
    "# for uid in range(1, 2):\n",
    "    true_seq= data[data['uid']==uid]['poi'].tolist()\n",
    "    # as source code, take only the pois that the uid never visits before.\n",
    "    false_seq= np.random.choice(list(set(range(1, user_no+1))-set(true_seq)),size=len(true_seq),replace=True)\n",
    "    \n",
    "    seqlen=len(true_seq)\n",
    "    \n",
    "    for i in range(1,seqlen-1):\n",
    "        train_set.append((uid, true_seq[i], true_seq[:i], coords[true_seq[i]], 1))\n",
    "        train_set.append((uid, false_seq[i], true_seq[:i], coords[false_seq[i]], 0))\n",
    "    \n",
    "    eval_set.append((uid, true_seq[seqlen-1], true_seq[:seqlen-1], coords[true_seq[seqlen-1]], 1))\n",
    "    eval_set.append((uid, false_seq[seqlen-1], true_seq[:seqlen-1], coords[false_seq[seqlen-1]], 0))\n",
    "    \n",
    "\n"
   ]
  },
  {
   "cell_type": "code",
   "execution_count": 119,
   "id": "cdc3c653-6eb3-4a5b-a08b-1df2c4578502",
   "metadata": {},
   "outputs": [],
   "source": [
    "random.shuffle(train_set)\n",
    "random.shuffle(eval_set)"
   ]
  },
  {
   "cell_type": "code",
   "execution_count": 120,
   "id": "8917e83f-f187-4927-a741-cfe5e00aa562",
   "metadata": {},
   "outputs": [
    {
     "name": "stdout",
     "output_type": "stream",
     "text": [
      "#Train: 1138234\n",
      "#Validation: 2293\n",
      "#Test: 2293\n"
     ]
    }
   ],
   "source": [
    "sep = len(eval_set)//2\n",
    "val_set = eval_set[:sep]\n",
    "test_set = eval_set[sep:]\n",
    "\n",
    "print(f'#Train: {len(train_set)}')\n",
    "print(f'#Validation: {len(val_set)}')\n",
    "print(f'#Test: {len(test_set)}')"
   ]
  },
  {
   "cell_type": "code",
   "execution_count": 141,
   "id": "b61cf84c-ba35-445b-8aa6-683a3ca9af3c",
   "metadata": {},
   "outputs": [],
   "source": [
    "# save the datasets\n",
    "with open(dist_pth+'train.pkl', 'wb') as f:\n",
    "    pkl.dump(train_set, f, pkl.HIGHEST_PROTOCOL)\n",
    "    pkl.dump((user_no, poi_no), f, pkl.HIGHEST_PROTOCOL)\n",
    "with open(dist_pth+'test.pkl', 'wb') as f:\n",
    "    pkl.dump(test_set, f, pkl.HIGHEST_PROTOCOL)\n",
    "    pkl.dump((user_no, poi_no), f, pkl.HIGHEST_PROTOCOL)\n",
    "with open(dist_pth+'val.pkl', 'wb') as f:\n",
    "    pkl.dump(val_set, f, pkl.HIGHEST_PROTOCOL)\n",
    "    pkl.dump((user_no, poi_no), f, pkl.HIGHEST_PROTOCOL)"
   ]
  },
  {
   "cell_type": "code",
   "execution_count": 173,
   "id": "7d98b433-660d-4081-b1d1-4fc57a8bf914",
   "metadata": {},
   "outputs": [],
   "source": [
    "from math import cos, asin, sqrt, pi\n",
    "\n",
    "def distance(lat1, lon1, lat2, lon2):\n",
    "    r = 6371\n",
    "    p = pi / 180\n",
    "    a = 0.5 - cos((lat2 - lat1) * p) / 2 + cos(lat1 * p) * cos(lat2 * p) * (1 - cos((lon2 - lon1) * p)) / 2\n",
    "    return 2 * r * asin(sqrt(a))"
   ]
  },
  {
   "cell_type": "code",
   "execution_count": 177,
   "id": "20bf1695-084e-4a37-8dea-918a08f8dd51",
   "metadata": {},
   "outputs": [
    {
     "name": "stderr",
     "output_type": "stream",
     "text": [
      "100%|█████████████████████████████████████| 61857/61857 [38:02<00:00, 27.10it/s]\n"
     ]
    },
    {
     "ename": "NameError",
     "evalue": "name 'threshold' is not defined",
     "output_type": "error",
     "traceback": [
      "\u001b[0;31m---------------------------------------------------------------------------\u001b[0m",
      "\u001b[0;31mNameError\u001b[0m                                 Traceback (most recent call last)",
      "\u001b[0;32m/var/folders/vv/zdn1dwbd1_g6mx5nh_3r5bzh0000gn/T/ipykernel_54210/4248051600.py\u001b[0m in \u001b[0;36m<module>\u001b[0;34m\u001b[0m\n\u001b[1;32m     12\u001b[0m \u001b[0;31m# threshold distance is 0.5km\u001b[0m\u001b[0;34m\u001b[0m\u001b[0;34m\u001b[0m\u001b[0m\n\u001b[1;32m     13\u001b[0m \u001b[0mthreshold_d\u001b[0m \u001b[0;34m=\u001b[0m \u001b[0;36m0.5\u001b[0m\u001b[0;34m\u001b[0m\u001b[0;34m\u001b[0m\u001b[0m\n\u001b[0;32m---> 14\u001b[0;31m \u001b[0madj_m\u001b[0m \u001b[0;34m=\u001b[0m \u001b[0;34m(\u001b[0m\u001b[0mdist_m\u001b[0m\u001b[0;34m<=\u001b[0m\u001b[0mthreshold\u001b[0m\u001b[0;34m)\u001b[0m\u001b[0;34m\u001b[0m\u001b[0;34m\u001b[0m\u001b[0m\n\u001b[0m\u001b[1;32m     15\u001b[0m \u001b[0;34m\u001b[0m\u001b[0m\n\u001b[1;32m     16\u001b[0m \u001b[0;34m\u001b[0m\u001b[0m\n",
      "\u001b[0;31mNameError\u001b[0m: name 'threshold' is not defined"
     ]
    }
   ],
   "source": [
    "# construct Gerographical Graph\n",
    "\n",
    "# all the vertex\n",
    "v=list(range(1, poi_no+1))\n",
    "\n",
    "dist_m = np.zeros((poi_no, poi_no))\n",
    "\n",
    "for i in tqdm(range(poi_no-1)):\n",
    "    for j in range(i+1, poi_no):\n",
    "        dist_m[i,j] = distance(coords[i+1][0], coords[i+1][1], coords[j+1][0], coords[j+1][1])\n",
    "\n"
   ]
  },
  {
   "cell_type": "code",
   "execution_count": 212,
   "id": "cbccec2f-f272-41ed-af33-2b3652cc16a8",
   "metadata": {},
   "outputs": [],
   "source": [
    "# dist_m is too large\n",
    "# np.save(dist_pth+'dist_mat.npy', dist_m)"
   ]
  },
  {
   "cell_type": "code",
   "execution_count": 184,
   "id": "ab68b3c9-62cd-4f50-8c51-386f7c962651",
   "metadata": {},
   "outputs": [],
   "source": [
    "# threshold distance is 0.5km\n",
    "threshold_d = 0.5\n",
    "adj_m = (dist_m<=threshold_d)&(dist_m>0)"
   ]
  },
  {
   "cell_type": "code",
   "execution_count": 238,
   "id": "0530c58a-19ce-43ec-9aeb-9b6182ed4a03",
   "metadata": {},
   "outputs": [
    {
     "name": "stderr",
     "output_type": "stream",
     "text": [
      "100%|████████████████████████████████████| 61858/61858 [05:41<00:00, 181.12it/s]\n"
     ]
    }
   ],
   "source": [
    "v_neighbor = {poi: [] for poi in v}\n",
    "v_edges=[[],[] ]\n",
    "for poi in tqdm(v_neighbor.keys()):\n",
    "    tmp = list(np.array(v)[adj_m[poi-1,:]])+list(np.array(v)[adj_m[:,poi-1]])\n",
    "    v_neighbor[poi] = tmp\n",
    "    v_edges[0] += [poi for _ in range(len(tmp))]\n",
    "    v_edges[1] += tmp"
   ]
  },
  {
   "cell_type": "code",
   "execution_count": 241,
   "id": "f5d7121a-20ee-4d21-ae92-882f81b8ce58",
   "metadata": {},
   "outputs": [],
   "source": [
    "with open(dist_pth+'dist_graph.pkl', 'wb') as f:\n",
    "    pkl.dump(v_edges, f, pkl.HIGHEST_PROTOCOL)\n",
    "    pkl.dump(v_neighbor, f, pkl.HIGHEST_PROTOCOL)"
   ]
  },
  {
   "cell_type": "code",
   "execution_count": 242,
   "id": "1a2ab404-b117-412a-a71a-3e8af8f9017f",
   "metadata": {},
   "outputs": [],
   "source": [
    "# dist_m is too large, save only the distances which have edges.\n",
    "\n",
    "np.save(dist_pth +'dist_on_graph.npy', dist_m[np.array(v_edges[0])-1,np.array(v_edges[1])-1])"
   ]
  },
  {
   "cell_type": "code",
   "execution_count": null,
   "id": "05d248f9-05e0-44bd-9ebb-e320f5c826a8",
   "metadata": {},
   "outputs": [],
   "source": []
  }
 ],
 "metadata": {
  "kernelspec": {
   "display_name": "Python 3 (ipykernel)",
   "language": "python",
   "name": "python3"
  },
  "language_info": {
   "codemirror_mode": {
    "name": "ipython",
    "version": 3
   },
   "file_extension": ".py",
   "mimetype": "text/x-python",
   "name": "python",
   "nbconvert_exporter": "python",
   "pygments_lexer": "ipython3",
   "version": "3.9.13"
  }
 },
 "nbformat": 4,
 "nbformat_minor": 5
}
